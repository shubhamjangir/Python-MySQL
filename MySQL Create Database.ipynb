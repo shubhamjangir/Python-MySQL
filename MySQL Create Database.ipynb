{
 "cells": [
  {
   "cell_type": "markdown",
   "id": "972356b6",
   "metadata": {},
   "source": [
    "# MySQL Create Database"
   ]
  },
  {
   "cell_type": "code",
   "execution_count": null,
   "id": "91003386",
   "metadata": {},
   "outputs": [],
   "source": [
    "import mysql.connector\n",
    "\n",
    "mydb = mysql.connector.connect(\n",
    "  host=\"localhost\",\n",
    "  user=\"yourusername\",\n",
    "  password=\"yourpassword\"\n",
    ")\n",
    "\n",
    "mycursor = mydb.cursor()\n",
    "\n",
    "mycursor.execute(\"CREATE DATABASE mydatabase\")"
   ]
  },
  {
   "cell_type": "markdown",
   "id": "022045c3",
   "metadata": {},
   "source": [
    "The MySQLCursor class creaates objects that can execute operations such as SQL statements.   \n",
    "Cursor objects interact with the MySQL server using a MySQLConnection object.    "
   ]
  },
  {
   "cell_type": "markdown",
   "id": "063b22b5",
   "metadata": {},
   "source": [
    "### Check if Database Exists"
   ]
  },
  {
   "cell_type": "code",
   "execution_count": null,
   "id": "dd59e419",
   "metadata": {},
   "outputs": [],
   "source": [
    "import mysql.connector\n",
    "\n",
    "mydb = mysql.connector.connect(\n",
    "  host=\"localhost\",\n",
    "  user=\"yourusername\",\n",
    "  password=\"yourpassword\"\n",
    ")\n",
    "\n",
    "mycursor = mydb.cursor()\n",
    "\n",
    "mycursor.execute(\"SHOW DATABASES\")\n",
    "\n",
    "for x in mycursor:\n",
    "  print(x)"
   ]
  },
  {
   "cell_type": "markdown",
   "id": "22a2821b",
   "metadata": {},
   "source": [
    "It will show the list of databases."
   ]
  },
  {
   "cell_type": "code",
   "execution_count": null,
   "id": "9f367e94",
   "metadata": {},
   "outputs": [],
   "source": [
    "import mysql.connector\n",
    "\n",
    "mydb = mysql.connector.connect(\n",
    "  host=\"localhost\",\n",
    "  user=\"yourusername\",\n",
    "  password=\"yourpassword\",\n",
    "  database=\"mydatabase\"\n",
    ")"
   ]
  },
  {
   "cell_type": "markdown",
   "id": "5edccb1b",
   "metadata": {},
   "source": [
    "If the database does not exist, you will get an error."
   ]
  }
 ],
 "metadata": {
  "kernelspec": {
   "display_name": "Python 3",
   "language": "python",
   "name": "python3"
  },
  "language_info": {
   "codemirror_mode": {
    "name": "ipython",
    "version": 3
   },
   "file_extension": ".py",
   "mimetype": "text/x-python",
   "name": "python",
   "nbconvert_exporter": "python",
   "pygments_lexer": "ipython3",
   "version": "3.8.8"
  }
 },
 "nbformat": 4,
 "nbformat_minor": 5
}
