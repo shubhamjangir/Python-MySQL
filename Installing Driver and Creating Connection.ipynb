{
 "cells": [
  {
   "cell_type": "markdown",
   "id": "7f923838",
   "metadata": {},
   "source": [
    "# Python MySQL\n",
    "Python can be used in database applications.    \n",
    "One of the most popular databases is MySQL. "
   ]
  },
  {
   "cell_type": "markdown",
   "id": "3a4334ef",
   "metadata": {},
   "source": [
    "### MySQL Database\n",
    "Install MySQL database on your Desktop\n"
   ]
  },
  {
   "cell_type": "markdown",
   "id": "1958b084",
   "metadata": {},
   "source": [
    "### Install MySQL Driver\n",
    "\n",
    "Python needs a MySQL driver to access the MySQL database.\n",
    "We will use the driver \"MySQL Connector\".   \n",
    "python -m pip install mysql-connector-python"
   ]
  },
  {
   "cell_type": "markdown",
   "id": "abbb273b",
   "metadata": {},
   "source": [
    "### Test MySQL Connector\n",
    "import mysql.connector"
   ]
  },
  {
   "cell_type": "markdown",
   "id": "51ca8415",
   "metadata": {},
   "source": [
    "### Create Connection\n",
    "Start by creating a connection to the database.\n",
    "It will create a MySQL object.   \n",
    "\n",
    "import mysql.connector\n",
    "\n",
    "mydb = mysql.connector.connect(    \n",
    "  host=\"localhost\",    \n",
    "  user=\"yourusername\",    \n",
    "  password=\"yourpassword\"    \n",
    ")    \n",
    "\n",
    "print(mydb)     "
   ]
  },
  {
   "cell_type": "markdown",
   "id": "b5f9e53c",
   "metadata": {},
   "source": [
    "Now you can start querying the database using SQL statements."
   ]
  }
 ],
 "metadata": {
  "kernelspec": {
   "display_name": "Python 3",
   "language": "python",
   "name": "python3"
  },
  "language_info": {
   "codemirror_mode": {
    "name": "ipython",
    "version": 3
   },
   "file_extension": ".py",
   "mimetype": "text/x-python",
   "name": "python",
   "nbconvert_exporter": "python",
   "pygments_lexer": "ipython3",
   "version": "3.8.8"
  }
 },
 "nbformat": 4,
 "nbformat_minor": 5
}
